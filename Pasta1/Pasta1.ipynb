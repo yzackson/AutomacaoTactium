{
 "cells": [
  {
   "cell_type": "code",
   "execution_count": 1,
   "id": "d4f3585b",
   "metadata": {},
   "outputs": [
    {
     "ename": "ModuleNotFoundError",
     "evalue": "No module named 'pyautogui'",
     "output_type": "error",
     "traceback": [
      "\u001b[1;31m---------------------------------------------------------------------------\u001b[0m",
      "\u001b[1;31mModuleNotFoundError\u001b[0m                       Traceback (most recent call last)",
      "\u001b[1;32m<ipython-input-1-05bd7ff36859>\u001b[0m in \u001b[0;36m<module>\u001b[1;34m\u001b[0m\n\u001b[1;32m----> 1\u001b[1;33m \u001b[1;32mimport\u001b[0m \u001b[0mpyautogui\u001b[0m \u001b[1;32mas\u001b[0m \u001b[0mpag\u001b[0m\u001b[1;33m\u001b[0m\u001b[1;33m\u001b[0m\u001b[0m\n\u001b[0m\u001b[0;32m      2\u001b[0m \u001b[1;32mimport\u001b[0m \u001b[0mpandas\u001b[0m \u001b[1;32mas\u001b[0m \u001b[0mpd\u001b[0m\u001b[1;33m\u001b[0m\u001b[1;33m\u001b[0m\u001b[0m\n\u001b[0;32m      3\u001b[0m \u001b[1;32mimport\u001b[0m \u001b[0mtime\u001b[0m\u001b[1;33m\u001b[0m\u001b[1;33m\u001b[0m\u001b[0m\n\u001b[0;32m      4\u001b[0m \u001b[1;33m\u001b[0m\u001b[0m\n\u001b[0;32m      5\u001b[0m \u001b[0mpag\u001b[0m\u001b[1;33m.\u001b[0m\u001b[0mPAUSE\u001b[0m \u001b[1;33m=\u001b[0m \u001b[1;36m1\u001b[0m\u001b[1;33m\u001b[0m\u001b[1;33m\u001b[0m\u001b[0m\n",
      "\u001b[1;31mModuleNotFoundError\u001b[0m: No module named 'pyautogui'"
     ]
    }
   ],
   "source": [
    "import pyautogui as pag\n",
    "import pandas as pd\n",
    "import time\n",
    "\n",
    "pag.PAUSE = 1\n",
    "\n",
    "tabela = pd.read_excel(r\"C:\\Users\\Isaac Pires\\Documents\\Dev\\AutomacaoPython\\Pasta1.xlsx\")\n",
    "\n",
    "ip = tabela.loc[[0], \"ip\"]\n",
    "pyclip(ip)\n",
    "\n",
    "pag.hotkey('ctrl', 't')\n",
    "pag.write(\"192.168.8.245/tactiumvoip/ipmonitor\")\n",
    "pag.press(\"enter\")\n",
    "pag.press(\"tab\")\n",
    "pag.write(\"admin\")\n",
    "pag.press(\"tab\")\n",
    "pag.write(\"Gene7790\")\n",
    "pag.press(\"enter\")\n",
    "pag.press(\"enter\")"
   ]
  },
  {
   "cell_type": "code",
   "execution_count": null,
   "id": "e0ce62e8",
   "metadata": {},
   "outputs": [
    {
     "data": {
      "text/plain": [
       "'192.168.0.3'"
      ]
     },
     "metadata": {},
     "output_type": "display_data"
    }
   ],
   "source": [
    "import pyautogui as pag\n",
    "#import pyclip\n",
    "import pandas as pd\n",
    "import time\n",
    "\n",
    "pag.PAUSE = 1\n",
    "\n",
    "tabela = pd.read_excel(r\"C:\\Users\\Isaac Pires\\Documents\\Dev\\AutomacaoPython\\Pasta1.xlsx\")\n",
    "\n",
    "ip = tabela[\"ip\"].loc[0]\n",
    "display(ip)"
   ]
  },
  {
   "cell_type": "code",
   "execution_count": null,
   "id": "9d3d8fe4",
   "metadata": {
    "scrolled": true
   },
   "outputs": [
    {
     "data": {
      "text/plain": [
       "Point(x=870, y=85)"
      ]
     },
     "execution_count": 12,
     "metadata": {},
     "output_type": "execute_result"
    }
   ],
   "source": [
    "import pyautogui as pg\n",
    "import time\n",
    "\n",
    "time.sleep(2)\n",
    "pg.position()"
   ]
  },
  {
   "cell_type": "code",
   "execution_count": null,
   "id": "36c4ebd5",
   "metadata": {},
   "outputs": [],
   "source": [
    "import pyautogui as pag\n",
    "import pandas as pd\n",
    "import pyperclip\n",
    "\n",
    "pag.PAUSE = 1\n",
    "\n",
    "tabela = pd.read_excel(r\"C:\\Users\\Isaac Pires\\Documents\\Dev\\AutomacaoPython\\Pasta1.xlsx\")\n",
    "\n",
    "ip = tabela[\"ip\"].loc[0]\n",
    "pyperclip.copy(ip)\n",
    "pag.hotkey('ctrl', 't')\n",
    "pag.hotkey('ctrl', 'v')"
   ]
  }
 ],
 "metadata": {
  "kernelspec": {
   "display_name": "Python 3",
   "language": "python",
   "name": "python3"
  },
  "language_info": {
   "codemirror_mode": {
    "name": "ipython",
    "version": 3
   },
   "file_extension": ".py",
   "mimetype": "text/x-python",
   "name": "python",
   "nbconvert_exporter": "python",
   "pygments_lexer": "ipython3",
   "version": "3.8.8"
  }
 },
 "nbformat": 4,
 "nbformat_minor": 5
}
