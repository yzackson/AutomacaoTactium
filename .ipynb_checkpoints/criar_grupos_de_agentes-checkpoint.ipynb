{
 "cells": [
  {
   "cell_type": "code",
   "execution_count": 50,
   "id": "f4a1e613",
   "metadata": {},
   "outputs": [],
   "source": [
    "import pandas as pd\n",
    "from selenium import webdriver\n",
    "from selenium.webdriver.common.keys import Keys\n",
    "import time\n",
    "\n",
    "driver = webdriver.Chrome()\n",
    "\n",
    "grupos = pd.read_excel('grupos_de_agentes.xlsx')\n",
    "\n",
    "login = 'admin'\n",
    "senha = 'Gene7790'\n",
    "ip = '192.168.8.245'\n",
    "\n",
    "driver.get('http://' + ip + '/tactiumvoip/ipmonitor')\n",
    "\n",
    "driver.find_element_by_id('username').send_keys(login)\n",
    "driver.find_element_by_id('password').send_keys(senha)\n",
    "driver.find_element_by_id('LoginControl_LoginButton').send_keys(Keys.ENTER)\n",
    "\n",
    "alerta = driver.switch_to.alert\n",
    "alerta.accept()\n",
    "\n",
    "for i in range(grupos['Grupos'].count()) :\n",
    "    grupo_atual = grupos['Grupos'].loc[i]\n",
    "    time.sleep(1)\n",
    "    #link para criação de grupos\n",
    "    driver.get('http://192.168.8.245/TactiumVoip/IPMonitor/Register/AgentGroup/New')\n",
    "    driver.find_element_by_xpath('//*[@id=\"_003\"]').send_keys(grupo_atual)\n",
    "    driver.find_element_by_xpath('//*[@id=\"_006_true\"]').click()\n",
    "    time.sleep(2)\n",
    "    driver.find_element_by_xpath('//*[@id=\"_001_save\"]').send_keys(Keys.ENTER)\n",
    "    time.sleep(1)"
   ]
  },
  {
   "cell_type": "code",
   "execution_count": 48,
   "id": "729301bd",
   "metadata": {},
   "outputs": [
    {
     "name": "stdout",
     "output_type": "stream",
     "text": [
      "Call_Assistencial_RJ\n",
      "\n",
      "Call_Exame_CDM_RJ\n",
      "\n",
      "Call_Exame_Oftalmo_RJ\n",
      "\n",
      "Call_Autorizacao_RJ\n",
      "\n",
      "Call_Boleto_RJ\n",
      "\n",
      "Call_Retenção_RJ\n",
      "\n",
      "Call_Avaliacao_RJ\n",
      "\n",
      "Call_Ctd_RJ\n",
      "\n",
      "Call_Ger-Cli_RJ\n",
      "\n",
      "Call_Oftalmo_RJ\n",
      "\n",
      "Call_Consultas_RJ\n",
      "\n",
      "Call_Geral_RJ\n",
      "\n",
      "Call_IR_RJ\n",
      "\n",
      "Call_Prestador_RJ\n",
      "\n",
      "Call_SAC_RJ\n",
      "\n"
     ]
    }
   ],
   "source": [
    "grupos = pd.read_excel('grupos_de_agentes.xlsx')\n",
    "for i in range(grupos['Grupos'].count()) :\n",
    "    grupo_atual = grupos['Grupos'].loc[i]\n",
    "    print (grupo_atual + '\\n')"
   ]
  },
  {
   "cell_type": "code",
   "execution_count": null,
   "id": "f64c8fc3",
   "metadata": {},
   "outputs": [],
   "source": []
  }
 ],
 "metadata": {
  "kernelspec": {
   "display_name": "Python 3",
   "language": "python",
   "name": "python3"
  },
  "language_info": {
   "codemirror_mode": {
    "name": "ipython",
    "version": 3
   },
   "file_extension": ".py",
   "mimetype": "text/x-python",
   "name": "python",
   "nbconvert_exporter": "python",
   "pygments_lexer": "ipython3",
   "version": "3.8.8"
  }
 },
 "nbformat": 4,
 "nbformat_minor": 5
}
