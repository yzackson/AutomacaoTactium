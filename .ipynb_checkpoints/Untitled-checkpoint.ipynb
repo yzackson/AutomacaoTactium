{
 "cells": [
  {
   "cell_type": "code",
   "execution_count": 25,
   "id": "d4f3585b",
   "metadata": {},
   "outputs": [],
   "source": [
    "import pyautogui as pag\n",
    "import pandas as pd\n",
    "import time\n",
    "\n",
    "pag.PAUSE = 1\n",
    "\n",
    "tabela = pd.read_excel(r\"C:\\Users\\Isaac Pires\\Documents\\Dev\\AutomacaoPython\\Pasta1.xlsx\")\n",
    "\n",
    "ip = tabela.loc[[0], \"ip\"]\n",
    "pyclip(ip)\n",
    "\n",
    "pag.hotkey('ctrl', 't')\n",
    "pag.write(\"192.168.8.245/tactiumvoip/ipmonitor\")\n",
    "pag.press(\"enter\")\n",
    "pag.press(\"tab\")\n",
    "pag.write(\"admin\")\n",
    "pag.press(\"tab\")\n",
    "pag.write(\"Gene7790\")\n",
    "pag.press(\"enter\")\n",
    "pag.press(\"enter\")"
   ]
  },
  {
   "cell_type": "code",
   "execution_count": 45,
   "id": "e0ce62e8",
   "metadata": {},
   "outputs": [
    {
     "data": {
      "text/plain": [
       "'192.168.0.3'"
      ]
     },
     "metadata": {},
     "output_type": "display_data"
    }
   ],
   "source": [
    "import pyautogui as pag\n",
    "#import pyclip\n",
    "import pandas as pd\n",
    "import time\n",
    "\n",
    "pag.PAUSE = 1\n",
    "\n",
    "tabela = pd.read_excel(r\"C:\\Users\\Isaac Pires\\Documents\\Dev\\AutomacaoPython\\Pasta1.xlsx\")\n",
    "\n",
    "ip = tabela[\"ip\"].loc[0]\n",
    "display(ip)"
   ]
  },
  {
   "cell_type": "code",
   "execution_count": 12,
   "id": "9d3d8fe4",
   "metadata": {
    "scrolled": true
   },
   "outputs": [
    {
     "data": {
      "text/plain": [
       "Point(x=870, y=85)"
      ]
     },
     "execution_count": 12,
     "metadata": {},
     "output_type": "execute_result"
    }
   ],
   "source": [
    "import pyautogui as pg\n",
    "import time\n",
    "\n",
    "time.sleep(2)\n",
    "pg.position()"
   ]
  },
  {
   "cell_type": "code",
   "execution_count": 48,
   "id": "36c4ebd5",
   "metadata": {},
   "outputs": [],
   "source": [
    "import pyautogui as pag\n",
    "import pandas as pd\n",
    "import pyperclip\n",
    "\n",
    "pag.PAUSE = 1\n",
    "\n",
    "tabela = pd.read_excel(r\"C:\\Users\\Isaac Pires\\Documents\\Dev\\AutomacaoPython\\Pasta1.xlsx\")\n",
    "\n",
    "ip = tabela[\"ip\"].loc[0]\n",
    "pyperclip.copy(ip)\n",
    "pag.hotkey('ctrl', 't')\n",
    "pag.hotkey('ctrl', 'v')"
   ]
  },
  {
   "cell_type": "code",
   "execution_count": null,
   "id": "6706f0f8",
   "metadata": {},
   "outputs": [],
   "source": []
  }
 ],
 "metadata": {
  "kernelspec": {
   "display_name": "Python 3",
   "language": "python",
   "name": "python3"
  },
  "language_info": {
   "codemirror_mode": {
    "name": "ipython",
    "version": 3
   },
   "file_extension": ".py",
   "mimetype": "text/x-python",
   "name": "python",
   "nbconvert_exporter": "python",
   "pygments_lexer": "ipython3",
   "version": "3.8.8"
  }
 },
 "nbformat": 4,
 "nbformat_minor": 5
}
