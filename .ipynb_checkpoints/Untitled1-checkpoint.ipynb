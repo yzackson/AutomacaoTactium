{
 "cells": [
  {
   "cell_type": "code",
   "execution_count": 12,
   "id": "7be4f5ad",
   "metadata": {},
   "outputs": [],
   "source": [
    "from selenium import webdriver\n",
    "from selenium.webdriver.common.keys import Keys\n",
    "import time\n",
    "import pandas as pd\n",
    "\n",
    "navegador = webdriver.Chrome()\n",
    "\n",
    "login = 'admin'\n",
    "senha = 'Gene7790'\n",
    "\n",
    "navegador.get('http://192.168.20.27/tactiumvoip/ipmonitor')\n",
    "\n",
    "navegador.find_element_by_id('username').send_keys(login)\n",
    "navegador.find_element_by_id('password').send_keys(senha)\n",
    "navegador.find_element_by_id('LoginControl_LoginButton').send_keys(Keys.ENTER)\n",
    "\n",
    "alerta = navegador.switch_to.alert\n",
    "alerta.accept()\n",
    "\n",
    "#entrar na lista de serviços\n",
    "navegador.get('http://192.168.20.27/TactiumVoip/IPMonitor/Register/Service')\n",
    "\n",
    "#achar o serviço que preciso\n",
    "\n",
    "\n",
    "#entrar no serviço escolhido\n",
    "\n",
    "#ir nas configs de ponto de entrada\n",
    "\n",
    "#habilitar edição do serviço\n",
    "\n",
    "#entrar no ponto de entrada\n",
    "\n",
    "#ir para aba de horário\n",
    "\n",
    "#entrar no horário\n",
    "\n",
    "#editar o horário\n",
    "\n",
    "#salvar o horário\n",
    "\n",
    "#salvar ponto de entrada\n",
    "\n",
    "#salvar serviço\n",
    "\n",
    "#voltar para lista de serviços"
   ]
  },
  {
   "cell_type": "code",
   "execution_count": null,
   "id": "1006fe15",
   "metadata": {},
   "outputs": [],
   "source": []
  }
 ],
 "metadata": {
  "kernelspec": {
   "display_name": "Python 3",
   "language": "python",
   "name": "python3"
  },
  "language_info": {
   "codemirror_mode": {
    "name": "ipython",
    "version": 3
   },
   "file_extension": ".py",
   "mimetype": "text/x-python",
   "name": "python",
   "nbconvert_exporter": "python",
   "pygments_lexer": "ipython3",
   "version": "3.8.8"
  }
 },
 "nbformat": 4,
 "nbformat_minor": 5
}
